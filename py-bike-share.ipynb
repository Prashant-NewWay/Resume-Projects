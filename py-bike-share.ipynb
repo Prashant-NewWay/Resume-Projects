{
 "cells": [
  {
   "cell_type": "code",
   "execution_count": 1,
   "id": "a75988ab",
   "metadata": {},
   "outputs": [],
   "source": [
    "import pandas as pd\n",
    "import numpy as np"
   ]
  },
  {
   "cell_type": "code",
   "execution_count": 2,
   "id": "94d42531",
   "metadata": {},
   "outputs": [],
   "source": [
    "jul_21 = pd.read_csv(r\"C:\\Users\\prash\\Desktop\\Untitled Folder\\Bike-share-EDA-python\\dataset\\202106-divvy-tripdata\\202106-divvy-tripdata.csv\")\n",
    "aug_21 = pd.read_csv(r\"C:\\Users\\prash\\Desktop\\Untitled Folder\\Bike-share-EDA-python\\dataset\\202107-divvy-tripdata\\202107-divvy-tripdata.csv\")\n",
    "sep_21 = pd.read_csv(r\"C:\\Users\\prash\\Desktop\\Untitled Folder\\Bike-share-EDA-python\\dataset\\202108-divvy-tripdata\\202108-divvy-tripdata.csv\")\n",
    "oct_21 = pd.read_csv(r\"C:\\Users\\prash\\Desktop\\Untitled Folder\\Bike-share-EDA-python\\dataset\\202109-divvy-tripdata\\202109-divvy-tripdata.csv\")\n",
    "nov_21 = pd.read_csv(r\"C:\\Users\\prash\\Desktop\\Untitled Folder\\Bike-share-EDA-python\\dataset\\202110-divvy-tripdata\\202110-divvy-tripdata.csv\")\n",
    "dec_21 = pd.read_csv(r\"C:\\Users\\prash\\Desktop\\Untitled Folder\\Bike-share-EDA-python\\dataset\\202111-divvy-tripdata\\202111-divvy-tripdata.csv\")"
   ]
  },
  {
   "cell_type": "code",
   "execution_count": 3,
   "id": "e3afc03a",
   "metadata": {},
   "outputs": [],
   "source": [
    "jan_22 = pd.read_csv(r\"C:\\Users\\prash\\Desktop\\Untitled Folder\\Bike-share-EDA-python\\dataset\\202112-divvy-tripdata\\202112-divvy-tripdata.csv\")\n",
    "feb_22 = pd.read_csv(r\"C:\\Users\\prash\\Desktop\\Untitled Folder\\Bike-share-EDA-python\\dataset\\202201-divvy-tripdata\\202201-divvy-tripdata.csv\")\n",
    "mar_22 = pd.read_csv(r\"C:\\Users\\prash\\Desktop\\Untitled Folder\\Bike-share-EDA-python\\dataset\\202202-divvy-tripdata\\202202-divvy-tripdata.csv\")\n",
    "apr_22 = pd.read_csv(r\"C:\\Users\\prash\\Desktop\\Untitled Folder\\Bike-share-EDA-python\\dataset\\202203-divvy-tripdata\\202203-divvy-tripdata.csv\")\n",
    "may_22 = pd.read_csv(r\"C:\\Users\\prash\\Desktop\\Untitled Folder\\Bike-share-EDA-python\\dataset\\202204-divvy-tripdata\\202204-divvy-tripdata.csv\")\n",
    "jun_22 = pd.read_csv(r\"C:\\Users\\prash\\Desktop\\Untitled Folder\\Bike-share-EDA-python\\dataset\\202205-divvy-tripdata\\202205-divvy-tripdata.csv\")"
   ]
  },
  {
   "cell_type": "code",
   "execution_count": 4,
   "id": "f0d7a394",
   "metadata": {},
   "outputs": [],
   "source": [
    "dataset = [jul_21, aug_21, sep_21, oct_21, nov_21, dec_21, jan_22, feb_22, mar_22, apr_22, may_22, jun_22]"
   ]
  },
  {
   "cell_type": "code",
   "execution_count": 5,
   "id": "a6570a84",
   "metadata": {},
   "outputs": [
    {
     "data": {
      "text/html": [
       "<div>\n",
       "<style scoped>\n",
       "    .dataframe tbody tr th:only-of-type {\n",
       "        vertical-align: middle;\n",
       "    }\n",
       "\n",
       "    .dataframe tbody tr th {\n",
       "        vertical-align: top;\n",
       "    }\n",
       "\n",
       "    .dataframe thead th {\n",
       "        text-align: right;\n",
       "    }\n",
       "</style>\n",
       "<table border=\"1\" class=\"dataframe\">\n",
       "  <thead>\n",
       "    <tr style=\"text-align: right;\">\n",
       "      <th></th>\n",
       "      <th>ride_id</th>\n",
       "      <th>rideable_type</th>\n",
       "      <th>started_at</th>\n",
       "      <th>ended_at</th>\n",
       "      <th>start_station_name</th>\n",
       "      <th>start_station_id</th>\n",
       "      <th>end_station_name</th>\n",
       "      <th>end_station_id</th>\n",
       "      <th>start_lat</th>\n",
       "      <th>start_lng</th>\n",
       "      <th>end_lat</th>\n",
       "      <th>end_lng</th>\n",
       "      <th>member_casual</th>\n",
       "    </tr>\n",
       "  </thead>\n",
       "  <tbody>\n",
       "    <tr>\n",
       "      <th>0</th>\n",
       "      <td>99103BB87CC6C1BB</td>\n",
       "      <td>electric_bike</td>\n",
       "      <td>2021-08-10 17:15:49</td>\n",
       "      <td>2021-08-10 17:22:44</td>\n",
       "      <td>NaN</td>\n",
       "      <td>NaN</td>\n",
       "      <td>NaN</td>\n",
       "      <td>NaN</td>\n",
       "      <td>41.770000</td>\n",
       "      <td>-87.680000</td>\n",
       "      <td>41.770000</td>\n",
       "      <td>-87.680000</td>\n",
       "      <td>member</td>\n",
       "    </tr>\n",
       "    <tr>\n",
       "      <th>1</th>\n",
       "      <td>EAFCCCFB0A3FC5A1</td>\n",
       "      <td>electric_bike</td>\n",
       "      <td>2021-08-10 17:23:14</td>\n",
       "      <td>2021-08-10 17:39:24</td>\n",
       "      <td>NaN</td>\n",
       "      <td>NaN</td>\n",
       "      <td>NaN</td>\n",
       "      <td>NaN</td>\n",
       "      <td>41.770000</td>\n",
       "      <td>-87.680000</td>\n",
       "      <td>41.770000</td>\n",
       "      <td>-87.630000</td>\n",
       "      <td>member</td>\n",
       "    </tr>\n",
       "    <tr>\n",
       "      <th>2</th>\n",
       "      <td>9EF4F46C57AD234D</td>\n",
       "      <td>electric_bike</td>\n",
       "      <td>2021-08-21 02:34:23</td>\n",
       "      <td>2021-08-21 02:50:36</td>\n",
       "      <td>NaN</td>\n",
       "      <td>NaN</td>\n",
       "      <td>NaN</td>\n",
       "      <td>NaN</td>\n",
       "      <td>41.950000</td>\n",
       "      <td>-87.650000</td>\n",
       "      <td>41.970000</td>\n",
       "      <td>-87.660000</td>\n",
       "      <td>member</td>\n",
       "    </tr>\n",
       "    <tr>\n",
       "      <th>3</th>\n",
       "      <td>5834D3208BFAF1DA</td>\n",
       "      <td>electric_bike</td>\n",
       "      <td>2021-08-21 06:52:55</td>\n",
       "      <td>2021-08-21 07:08:13</td>\n",
       "      <td>NaN</td>\n",
       "      <td>NaN</td>\n",
       "      <td>NaN</td>\n",
       "      <td>NaN</td>\n",
       "      <td>41.970000</td>\n",
       "      <td>-87.670000</td>\n",
       "      <td>41.950000</td>\n",
       "      <td>-87.650000</td>\n",
       "      <td>member</td>\n",
       "    </tr>\n",
       "    <tr>\n",
       "      <th>4</th>\n",
       "      <td>CD825CB87ED1D096</td>\n",
       "      <td>electric_bike</td>\n",
       "      <td>2021-08-19 11:55:29</td>\n",
       "      <td>2021-08-19 12:04:11</td>\n",
       "      <td>NaN</td>\n",
       "      <td>NaN</td>\n",
       "      <td>NaN</td>\n",
       "      <td>NaN</td>\n",
       "      <td>41.790000</td>\n",
       "      <td>-87.600000</td>\n",
       "      <td>41.770000</td>\n",
       "      <td>-87.620000</td>\n",
       "      <td>member</td>\n",
       "    </tr>\n",
       "    <tr>\n",
       "      <th>...</th>\n",
       "      <td>...</td>\n",
       "      <td>...</td>\n",
       "      <td>...</td>\n",
       "      <td>...</td>\n",
       "      <td>...</td>\n",
       "      <td>...</td>\n",
       "      <td>...</td>\n",
       "      <td>...</td>\n",
       "      <td>...</td>\n",
       "      <td>...</td>\n",
       "      <td>...</td>\n",
       "      <td>...</td>\n",
       "      <td>...</td>\n",
       "    </tr>\n",
       "    <tr>\n",
       "      <th>804347</th>\n",
       "      <td>5E5C9CD681E0419C</td>\n",
       "      <td>classic_bike</td>\n",
       "      <td>2021-08-07 18:07:43</td>\n",
       "      <td>2021-08-07 18:21:21</td>\n",
       "      <td>Wells St &amp; Evergreen Ave</td>\n",
       "      <td>TA1308000049</td>\n",
       "      <td>Lincoln Ave &amp; Diversey Pkwy</td>\n",
       "      <td>TA1307000064</td>\n",
       "      <td>41.906724</td>\n",
       "      <td>-87.634830</td>\n",
       "      <td>41.932225</td>\n",
       "      <td>-87.658617</td>\n",
       "      <td>member</td>\n",
       "    </tr>\n",
       "    <tr>\n",
       "      <th>804348</th>\n",
       "      <td>96FB57CF4AA456F6</td>\n",
       "      <td>electric_bike</td>\n",
       "      <td>2021-08-09 08:49:31</td>\n",
       "      <td>2021-08-09 09:03:51</td>\n",
       "      <td>Broadway &amp; Sheridan Rd</td>\n",
       "      <td>13323</td>\n",
       "      <td>Clark St &amp; Lincoln Ave</td>\n",
       "      <td>13179</td>\n",
       "      <td>41.952709</td>\n",
       "      <td>-87.649940</td>\n",
       "      <td>41.915973</td>\n",
       "      <td>-87.634762</td>\n",
       "      <td>member</td>\n",
       "    </tr>\n",
       "    <tr>\n",
       "      <th>804349</th>\n",
       "      <td>226A0910DCCE904C</td>\n",
       "      <td>classic_bike</td>\n",
       "      <td>2021-08-12 16:55:57</td>\n",
       "      <td>2021-08-12 17:15:10</td>\n",
       "      <td>Dearborn St &amp; Adams St</td>\n",
       "      <td>TA1305000005</td>\n",
       "      <td>Clark St &amp; Lincoln Ave</td>\n",
       "      <td>13179</td>\n",
       "      <td>41.879356</td>\n",
       "      <td>-87.629791</td>\n",
       "      <td>41.915689</td>\n",
       "      <td>-87.634600</td>\n",
       "      <td>member</td>\n",
       "    </tr>\n",
       "    <tr>\n",
       "      <th>804350</th>\n",
       "      <td>1A97D27AE23DE1E7</td>\n",
       "      <td>classic_bike</td>\n",
       "      <td>2021-08-08 22:47:43</td>\n",
       "      <td>2021-08-08 23:08:12</td>\n",
       "      <td>Broadway &amp; Sheridan Rd</td>\n",
       "      <td>13323</td>\n",
       "      <td>Clark St &amp; Winnemac Ave</td>\n",
       "      <td>TA1309000035</td>\n",
       "      <td>41.952833</td>\n",
       "      <td>-87.649993</td>\n",
       "      <td>41.973348</td>\n",
       "      <td>-87.667855</td>\n",
       "      <td>casual</td>\n",
       "    </tr>\n",
       "    <tr>\n",
       "      <th>804351</th>\n",
       "      <td>BBC36E4AA3652361</td>\n",
       "      <td>electric_bike</td>\n",
       "      <td>2021-08-27 18:53:53</td>\n",
       "      <td>2021-08-27 19:02:16</td>\n",
       "      <td>Paulina Ave &amp; North Ave</td>\n",
       "      <td>TA1305000037</td>\n",
       "      <td>Dayton St &amp; North Ave</td>\n",
       "      <td>13058</td>\n",
       "      <td>41.909851</td>\n",
       "      <td>-87.669808</td>\n",
       "      <td>41.910674</td>\n",
       "      <td>-87.649547</td>\n",
       "      <td>casual</td>\n",
       "    </tr>\n",
       "  </tbody>\n",
       "</table>\n",
       "<p>804352 rows × 13 columns</p>\n",
       "</div>"
      ],
      "text/plain": [
       "                 ride_id  rideable_type           started_at  \\\n",
       "0       99103BB87CC6C1BB  electric_bike  2021-08-10 17:15:49   \n",
       "1       EAFCCCFB0A3FC5A1  electric_bike  2021-08-10 17:23:14   \n",
       "2       9EF4F46C57AD234D  electric_bike  2021-08-21 02:34:23   \n",
       "3       5834D3208BFAF1DA  electric_bike  2021-08-21 06:52:55   \n",
       "4       CD825CB87ED1D096  electric_bike  2021-08-19 11:55:29   \n",
       "...                  ...            ...                  ...   \n",
       "804347  5E5C9CD681E0419C   classic_bike  2021-08-07 18:07:43   \n",
       "804348  96FB57CF4AA456F6  electric_bike  2021-08-09 08:49:31   \n",
       "804349  226A0910DCCE904C   classic_bike  2021-08-12 16:55:57   \n",
       "804350  1A97D27AE23DE1E7   classic_bike  2021-08-08 22:47:43   \n",
       "804351  BBC36E4AA3652361  electric_bike  2021-08-27 18:53:53   \n",
       "\n",
       "                   ended_at        start_station_name start_station_id  \\\n",
       "0       2021-08-10 17:22:44                       NaN              NaN   \n",
       "1       2021-08-10 17:39:24                       NaN              NaN   \n",
       "2       2021-08-21 02:50:36                       NaN              NaN   \n",
       "3       2021-08-21 07:08:13                       NaN              NaN   \n",
       "4       2021-08-19 12:04:11                       NaN              NaN   \n",
       "...                     ...                       ...              ...   \n",
       "804347  2021-08-07 18:21:21  Wells St & Evergreen Ave     TA1308000049   \n",
       "804348  2021-08-09 09:03:51    Broadway & Sheridan Rd            13323   \n",
       "804349  2021-08-12 17:15:10    Dearborn St & Adams St     TA1305000005   \n",
       "804350  2021-08-08 23:08:12    Broadway & Sheridan Rd            13323   \n",
       "804351  2021-08-27 19:02:16   Paulina Ave & North Ave     TA1305000037   \n",
       "\n",
       "                   end_station_name end_station_id  start_lat  start_lng  \\\n",
       "0                               NaN            NaN  41.770000 -87.680000   \n",
       "1                               NaN            NaN  41.770000 -87.680000   \n",
       "2                               NaN            NaN  41.950000 -87.650000   \n",
       "3                               NaN            NaN  41.970000 -87.670000   \n",
       "4                               NaN            NaN  41.790000 -87.600000   \n",
       "...                             ...            ...        ...        ...   \n",
       "804347  Lincoln Ave & Diversey Pkwy   TA1307000064  41.906724 -87.634830   \n",
       "804348       Clark St & Lincoln Ave          13179  41.952709 -87.649940   \n",
       "804349       Clark St & Lincoln Ave          13179  41.879356 -87.629791   \n",
       "804350      Clark St & Winnemac Ave   TA1309000035  41.952833 -87.649993   \n",
       "804351        Dayton St & North Ave          13058  41.909851 -87.669808   \n",
       "\n",
       "          end_lat    end_lng member_casual  \n",
       "0       41.770000 -87.680000        member  \n",
       "1       41.770000 -87.630000        member  \n",
       "2       41.970000 -87.660000        member  \n",
       "3       41.950000 -87.650000        member  \n",
       "4       41.770000 -87.620000        member  \n",
       "...           ...        ...           ...  \n",
       "804347  41.932225 -87.658617        member  \n",
       "804348  41.915973 -87.634762        member  \n",
       "804349  41.915689 -87.634600        member  \n",
       "804350  41.973348 -87.667855        casual  \n",
       "804351  41.910674 -87.649547        casual  \n",
       "\n",
       "[804352 rows x 13 columns]"
      ]
     },
     "execution_count": 5,
     "metadata": {},
     "output_type": "execute_result"
    }
   ],
   "source": [
    "dataset[2]"
   ]
  },
  {
   "cell_type": "code",
   "execution_count": 6,
   "id": "e96ed8bd",
   "metadata": {},
   "outputs": [],
   "source": [
    "dataset = pd.concat(dataset)"
   ]
  },
  {
   "cell_type": "code",
   "execution_count": 7,
   "id": "85a50e9d",
   "metadata": {},
   "outputs": [
    {
     "name": "stdout",
     "output_type": "stream",
     "text": [
      "<class 'pandas.core.frame.DataFrame'>\n",
      "Int64Index: 5860776 entries, 0 to 634857\n",
      "Data columns (total 13 columns):\n",
      " #   Column              Dtype  \n",
      "---  ------              -----  \n",
      " 0   ride_id             object \n",
      " 1   rideable_type       object \n",
      " 2   started_at          object \n",
      " 3   ended_at            object \n",
      " 4   start_station_name  object \n",
      " 5   start_station_id    object \n",
      " 6   end_station_name    object \n",
      " 7   end_station_id      object \n",
      " 8   start_lat           float64\n",
      " 9   start_lng           float64\n",
      " 10  end_lat             float64\n",
      " 11  end_lng             float64\n",
      " 12  member_casual       object \n",
      "dtypes: float64(4), object(9)\n",
      "memory usage: 626.0+ MB\n"
     ]
    }
   ],
   "source": [
    "dataset.info()"
   ]
  },
  {
   "cell_type": "code",
   "execution_count": 8,
   "id": "903781f4",
   "metadata": {},
   "outputs": [
    {
     "data": {
      "text/plain": [
       "ride_id                    0\n",
       "rideable_type              0\n",
       "started_at                 0\n",
       "ended_at                   0\n",
       "start_station_name    823167\n",
       "start_station_id      823164\n",
       "end_station_name      878338\n",
       "end_station_id        878338\n",
       "start_lat                  0\n",
       "start_lng                  0\n",
       "end_lat                 5036\n",
       "end_lng                 5036\n",
       "member_casual              0\n",
       "dtype: int64"
      ]
     },
     "execution_count": 8,
     "metadata": {},
     "output_type": "execute_result"
    }
   ],
   "source": [
    "dataset.isnull().sum()"
   ]
  },
  {
   "cell_type": "code",
   "execution_count": 9,
   "id": "b4d3aed7",
   "metadata": {},
   "outputs": [],
   "source": [
    "dataset = dataset.dropna(how='any',axis = 0)"
   ]
  },
  {
   "cell_type": "code",
   "execution_count": 10,
   "id": "6a44323f",
   "metadata": {},
   "outputs": [
    {
     "data": {
      "text/plain": [
       "ride_id               0\n",
       "rideable_type         0\n",
       "started_at            0\n",
       "ended_at              0\n",
       "start_station_name    0\n",
       "start_station_id      0\n",
       "end_station_name      0\n",
       "end_station_id        0\n",
       "start_lat             0\n",
       "start_lng             0\n",
       "end_lat               0\n",
       "end_lng               0\n",
       "member_casual         0\n",
       "dtype: int64"
      ]
     },
     "execution_count": 10,
     "metadata": {},
     "output_type": "execute_result"
    }
   ],
   "source": [
    "dataset.isnull().sum()"
   ]
  },
  {
   "cell_type": "code",
   "execution_count": 11,
   "id": "415ea3fa",
   "metadata": {},
   "outputs": [
    {
     "data": {
      "text/plain": [
       "False"
      ]
     },
     "execution_count": 11,
     "metadata": {},
     "output_type": "execute_result"
    }
   ],
   "source": [
    "dataset.duplicated().any()"
   ]
  },
  {
   "cell_type": "code",
   "execution_count": 12,
   "id": "b4bbc9eb",
   "metadata": {},
   "outputs": [],
   "source": [
    "pd.options.mode.chained_assignment = None\n",
    "\n",
    "dataset['started_at']=pd.to_datetime(dataset['started_at'])"
   ]
  },
  {
   "cell_type": "code",
   "execution_count": 13,
   "id": "129acde2",
   "metadata": {},
   "outputs": [],
   "source": [
    "dataset['ended_at']=pd.to_datetime(dataset['ended_at'])"
   ]
  },
  {
   "cell_type": "code",
   "execution_count": 14,
   "id": "03060b19",
   "metadata": {},
   "outputs": [
    {
     "name": "stdout",
     "output_type": "stream",
     "text": [
      "<class 'pandas.core.frame.DataFrame'>\n",
      "Int64Index: 4667299 entries, 50 to 634547\n",
      "Data columns (total 13 columns):\n",
      " #   Column              Dtype         \n",
      "---  ------              -----         \n",
      " 0   ride_id             object        \n",
      " 1   rideable_type       object        \n",
      " 2   started_at          datetime64[ns]\n",
      " 3   ended_at            datetime64[ns]\n",
      " 4   start_station_name  object        \n",
      " 5   start_station_id    object        \n",
      " 6   end_station_name    object        \n",
      " 7   end_station_id      object        \n",
      " 8   start_lat           float64       \n",
      " 9   start_lng           float64       \n",
      " 10  end_lat             float64       \n",
      " 11  end_lng             float64       \n",
      " 12  member_casual       object        \n",
      "dtypes: datetime64[ns](2), float64(4), object(7)\n",
      "memory usage: 498.5+ MB\n"
     ]
    }
   ],
   "source": [
    "dataset.info()"
   ]
  },
  {
   "cell_type": "code",
   "execution_count": 15,
   "id": "d9fb819e",
   "metadata": {},
   "outputs": [],
   "source": [
    "dataset['trip_duration'] = dataset['ended_at'] - dataset['started_at']"
   ]
  },
  {
   "cell_type": "code",
   "execution_count": 16,
   "id": "5e9ce084",
   "metadata": {},
   "outputs": [
    {
     "data": {
      "text/plain": [
       "50       2021-06-04 07:45:34\n",
       "51       2021-06-23 08:41:37\n",
       "53       2021-06-27 12:34:45\n",
       "56       2021-06-01 12:33:02\n",
       "57       2021-06-01 11:34:43\n",
       "                 ...        \n",
       "634001   2022-05-08 14:35:23\n",
       "634182   2022-05-14 10:10:37\n",
       "634378   2022-05-06 19:27:02\n",
       "634445   2022-05-30 21:16:11\n",
       "634547   2022-05-26 20:19:52\n",
       "Name: ended_at, Length: 4667299, dtype: datetime64[ns]"
      ]
     },
     "execution_count": 16,
     "metadata": {},
     "output_type": "execute_result"
    }
   ],
   "source": [
    "dataset['ended_at']"
   ]
  },
  {
   "cell_type": "code",
   "execution_count": 17,
   "id": "fc75622e",
   "metadata": {},
   "outputs": [
    {
     "name": "stdout",
     "output_type": "stream",
     "text": [
      "<class 'pandas.core.frame.DataFrame'>\n",
      "Int64Index: 4667299 entries, 50 to 634547\n",
      "Data columns (total 14 columns):\n",
      " #   Column              Dtype          \n",
      "---  ------              -----          \n",
      " 0   ride_id             object         \n",
      " 1   rideable_type       object         \n",
      " 2   started_at          datetime64[ns] \n",
      " 3   ended_at            datetime64[ns] \n",
      " 4   start_station_name  object         \n",
      " 5   start_station_id    object         \n",
      " 6   end_station_name    object         \n",
      " 7   end_station_id      object         \n",
      " 8   start_lat           float64        \n",
      " 9   start_lng           float64        \n",
      " 10  end_lat             float64        \n",
      " 11  end_lng             float64        \n",
      " 12  member_casual       object         \n",
      " 13  trip_duration       timedelta64[ns]\n",
      "dtypes: datetime64[ns](2), float64(4), object(7), timedelta64[ns](1)\n",
      "memory usage: 534.1+ MB\n"
     ]
    }
   ],
   "source": [
    "dataset.info()"
   ]
  },
  {
   "cell_type": "code",
   "execution_count": 18,
   "id": "76152b29",
   "metadata": {},
   "outputs": [],
   "source": [
    "dataset['trip_duration'] = pd.to_numeric(dataset['trip_duration'])"
   ]
  },
  {
   "cell_type": "code",
   "execution_count": 19,
   "id": "cc8d86af",
   "metadata": {},
   "outputs": [],
   "source": [
    "dataset['trip_duration'] = dataset['trip_duration']/6e+10"
   ]
  },
  {
   "cell_type": "code",
   "execution_count": 20,
   "id": "0993bd2e",
   "metadata": {},
   "outputs": [
    {
     "data": {
      "text/plain": [
       "count    4.667299e+06\n",
       "mean     2.021406e+01\n",
       "std      1.580815e+02\n",
       "min     -5.590000e+01\n",
       "25%      6.600000e+00\n",
       "50%      1.160000e+01\n",
       "75%      2.096667e+01\n",
       "max      5.594415e+04\n",
       "Name: trip_duration, dtype: float64"
      ]
     },
     "execution_count": 20,
     "metadata": {},
     "output_type": "execute_result"
    }
   ],
   "source": [
    "dataset['trip_duration'].describe(include='all')"
   ]
  },
  {
   "cell_type": "code",
   "execution_count": 21,
   "id": "440b0dd8",
   "metadata": {},
   "outputs": [],
   "source": [
    "#filter outliers\n",
    "\n",
    "tripduration_outliers = (dataset['trip_duration']<1) | (dataset['trip_duration']>480)"
   ]
  },
  {
   "cell_type": "code",
   "execution_count": 22,
   "id": "ec44f15d",
   "metadata": {},
   "outputs": [
    {
     "data": {
      "text/plain": [
       "50        False\n",
       "51        False\n",
       "53        False\n",
       "56        False\n",
       "57        False\n",
       "          ...  \n",
       "634001    False\n",
       "634182     True\n",
       "634378    False\n",
       "634445    False\n",
       "634547    False\n",
       "Name: trip_duration, Length: 4667299, dtype: bool"
      ]
     },
     "execution_count": 22,
     "metadata": {},
     "output_type": "execute_result"
    }
   ],
   "source": [
    "tripduration_outliers"
   ]
  },
  {
   "cell_type": "code",
   "execution_count": 23,
   "id": "16835ba6",
   "metadata": {},
   "outputs": [
    {
     "data": {
      "text/plain": [
       "False    4598285\n",
       "True       69014\n",
       "Name: trip_duration, dtype: int64"
      ]
     },
     "execution_count": 23,
     "metadata": {},
     "output_type": "execute_result"
    }
   ],
   "source": [
    "tripduration_outliers.value_counts()"
   ]
  },
  {
   "cell_type": "code",
   "execution_count": 24,
   "id": "fcb6b135",
   "metadata": {},
   "outputs": [],
   "source": [
    "dataset.drop(dataset.index[tripduration_outliers],inplace = True)"
   ]
  },
  {
   "cell_type": "code",
   "execution_count": 25,
   "id": "a516bb36",
   "metadata": {},
   "outputs": [
    {
     "data": {
      "text/html": [
       "<div>\n",
       "<style scoped>\n",
       "    .dataframe tbody tr th:only-of-type {\n",
       "        vertical-align: middle;\n",
       "    }\n",
       "\n",
       "    .dataframe tbody tr th {\n",
       "        vertical-align: top;\n",
       "    }\n",
       "\n",
       "    .dataframe thead th {\n",
       "        text-align: right;\n",
       "    }\n",
       "</style>\n",
       "<table border=\"1\" class=\"dataframe\">\n",
       "  <thead>\n",
       "    <tr style=\"text-align: right;\">\n",
       "      <th></th>\n",
       "      <th>ride_id</th>\n",
       "      <th>rideable_type</th>\n",
       "      <th>started_at</th>\n",
       "      <th>ended_at</th>\n",
       "      <th>start_station_name</th>\n",
       "      <th>start_station_id</th>\n",
       "      <th>end_station_name</th>\n",
       "      <th>end_station_id</th>\n",
       "      <th>start_lat</th>\n",
       "      <th>start_lng</th>\n",
       "      <th>end_lat</th>\n",
       "      <th>end_lng</th>\n",
       "      <th>member_casual</th>\n",
       "      <th>trip_duration</th>\n",
       "    </tr>\n",
       "  </thead>\n",
       "  <tbody>\n",
       "    <tr>\n",
       "      <th>50</th>\n",
       "      <td>0D904FEC5F84A538</td>\n",
       "      <td>classic_bike</td>\n",
       "      <td>2021-06-04 07:29:18</td>\n",
       "      <td>2021-06-04 07:45:34</td>\n",
       "      <td>Orleans St &amp; Elm St</td>\n",
       "      <td>TA1306000006</td>\n",
       "      <td>Orleans St &amp; Elm St</td>\n",
       "      <td>TA1306000006</td>\n",
       "      <td>41.902924</td>\n",
       "      <td>-87.637715</td>\n",
       "      <td>41.902924</td>\n",
       "      <td>-87.637715</td>\n",
       "      <td>member</td>\n",
       "      <td>16.266667</td>\n",
       "    </tr>\n",
       "    <tr>\n",
       "      <th>51</th>\n",
       "      <td>C4185F300D6B552B</td>\n",
       "      <td>classic_bike</td>\n",
       "      <td>2021-06-23 08:39:36</td>\n",
       "      <td>2021-06-23 08:41:37</td>\n",
       "      <td>Desplaines St &amp; Kinzie St</td>\n",
       "      <td>TA1306000003</td>\n",
       "      <td>Kingsbury St &amp; Kinzie St</td>\n",
       "      <td>KA1503000043</td>\n",
       "      <td>41.888716</td>\n",
       "      <td>-87.644448</td>\n",
       "      <td>41.889177</td>\n",
       "      <td>-87.638506</td>\n",
       "      <td>member</td>\n",
       "      <td>2.016667</td>\n",
       "    </tr>\n",
       "    <tr>\n",
       "      <th>53</th>\n",
       "      <td>60F97090AC85F55E</td>\n",
       "      <td>classic_bike</td>\n",
       "      <td>2021-06-27 12:26:58</td>\n",
       "      <td>2021-06-27 12:34:45</td>\n",
       "      <td>Clark St &amp; Grace St</td>\n",
       "      <td>TA1307000127</td>\n",
       "      <td>Clark St &amp; Leland Ave</td>\n",
       "      <td>TA1309000014</td>\n",
       "      <td>41.950780</td>\n",
       "      <td>-87.659172</td>\n",
       "      <td>41.967096</td>\n",
       "      <td>-87.667429</td>\n",
       "      <td>member</td>\n",
       "      <td>7.783333</td>\n",
       "    </tr>\n",
       "    <tr>\n",
       "      <th>56</th>\n",
       "      <td>FBC7B1F0160AA304</td>\n",
       "      <td>classic_bike</td>\n",
       "      <td>2021-06-01 12:30:24</td>\n",
       "      <td>2021-06-01 12:33:02</td>\n",
       "      <td>Kingsbury St &amp; Kinzie St</td>\n",
       "      <td>KA1503000043</td>\n",
       "      <td>Desplaines St &amp; Kinzie St</td>\n",
       "      <td>TA1306000003</td>\n",
       "      <td>41.889177</td>\n",
       "      <td>-87.638506</td>\n",
       "      <td>41.888716</td>\n",
       "      <td>-87.644448</td>\n",
       "      <td>member</td>\n",
       "      <td>2.633333</td>\n",
       "    </tr>\n",
       "    <tr>\n",
       "      <th>57</th>\n",
       "      <td>37A52001AEEFA4E5</td>\n",
       "      <td>classic_bike</td>\n",
       "      <td>2021-06-01 11:32:17</td>\n",
       "      <td>2021-06-01 11:34:43</td>\n",
       "      <td>Desplaines St &amp; Kinzie St</td>\n",
       "      <td>TA1306000003</td>\n",
       "      <td>Kingsbury St &amp; Kinzie St</td>\n",
       "      <td>KA1503000043</td>\n",
       "      <td>41.888716</td>\n",
       "      <td>-87.644448</td>\n",
       "      <td>41.889177</td>\n",
       "      <td>-87.638506</td>\n",
       "      <td>member</td>\n",
       "      <td>2.433333</td>\n",
       "    </tr>\n",
       "  </tbody>\n",
       "</table>\n",
       "</div>"
      ],
      "text/plain": [
       "             ride_id rideable_type          started_at            ended_at  \\\n",
       "50  0D904FEC5F84A538  classic_bike 2021-06-04 07:29:18 2021-06-04 07:45:34   \n",
       "51  C4185F300D6B552B  classic_bike 2021-06-23 08:39:36 2021-06-23 08:41:37   \n",
       "53  60F97090AC85F55E  classic_bike 2021-06-27 12:26:58 2021-06-27 12:34:45   \n",
       "56  FBC7B1F0160AA304  classic_bike 2021-06-01 12:30:24 2021-06-01 12:33:02   \n",
       "57  37A52001AEEFA4E5  classic_bike 2021-06-01 11:32:17 2021-06-01 11:34:43   \n",
       "\n",
       "           start_station_name start_station_id           end_station_name  \\\n",
       "50        Orleans St & Elm St     TA1306000006        Orleans St & Elm St   \n",
       "51  Desplaines St & Kinzie St     TA1306000003   Kingsbury St & Kinzie St   \n",
       "53        Clark St & Grace St     TA1307000127      Clark St & Leland Ave   \n",
       "56   Kingsbury St & Kinzie St     KA1503000043  Desplaines St & Kinzie St   \n",
       "57  Desplaines St & Kinzie St     TA1306000003   Kingsbury St & Kinzie St   \n",
       "\n",
       "   end_station_id  start_lat  start_lng    end_lat    end_lng member_casual  \\\n",
       "50   TA1306000006  41.902924 -87.637715  41.902924 -87.637715        member   \n",
       "51   KA1503000043  41.888716 -87.644448  41.889177 -87.638506        member   \n",
       "53   TA1309000014  41.950780 -87.659172  41.967096 -87.667429        member   \n",
       "56   TA1306000003  41.889177 -87.638506  41.888716 -87.644448        member   \n",
       "57   KA1503000043  41.888716 -87.644448  41.889177 -87.638506        member   \n",
       "\n",
       "    trip_duration  \n",
       "50      16.266667  \n",
       "51       2.016667  \n",
       "53       7.783333  \n",
       "56       2.633333  \n",
       "57       2.433333  "
      ]
     },
     "execution_count": 25,
     "metadata": {},
     "output_type": "execute_result"
    }
   ],
   "source": [
    "dataset.head()"
   ]
  },
  {
   "cell_type": "code",
   "execution_count": 26,
   "id": "69f26b96",
   "metadata": {},
   "outputs": [],
   "source": [
    "dataset[\"trip_distance\"] = np.sqrt(((dataset[\"end_lat\"] - dataset[\"start_lat\"])**2) + ((dataset[\"end_lng\"] - dataset[\"start_lng\"])**2))\n",
    "dataset[\"trip_distance\"] = dataset[\"trip_distance\"] * 111.139"
   ]
  },
  {
   "cell_type": "code",
   "execution_count": 28,
   "id": "735181ec",
   "metadata": {},
   "outputs": [],
   "source": [
    "dataset[\"start_hour\"] = dataset[\"started_at\"].dt.hour"
   ]
  },
  {
   "cell_type": "code",
   "execution_count": 29,
   "id": "4825e937",
   "metadata": {},
   "outputs": [
    {
     "data": {
      "text/plain": [
       "array([ 7,  8, 12, 11, 17, 21, 20, 23, 22, 19, 15, 10, 16, 14, 18,  0, 13,\n",
       "        5,  2,  9,  1,  6,  3,  4], dtype=int64)"
      ]
     },
     "execution_count": 29,
     "metadata": {},
     "output_type": "execute_result"
    }
   ],
   "source": [
    "dataset[\"start_hour\"].unique()"
   ]
  },
  {
   "cell_type": "code",
   "execution_count": 34,
   "id": "28bb4b7b",
   "metadata": {},
   "outputs": [
    {
     "data": {
      "text/html": [
       "<div>\n",
       "<style scoped>\n",
       "    .dataframe tbody tr th:only-of-type {\n",
       "        vertical-align: middle;\n",
       "    }\n",
       "\n",
       "    .dataframe tbody tr th {\n",
       "        vertical-align: top;\n",
       "    }\n",
       "\n",
       "    .dataframe thead th {\n",
       "        text-align: right;\n",
       "    }\n",
       "</style>\n",
       "<table border=\"1\" class=\"dataframe\">\n",
       "  <thead>\n",
       "    <tr style=\"text-align: right;\">\n",
       "      <th></th>\n",
       "      <th>ride_id</th>\n",
       "      <th>rideable_type</th>\n",
       "      <th>started_at</th>\n",
       "      <th>ended_at</th>\n",
       "      <th>start_station_name</th>\n",
       "      <th>start_station_id</th>\n",
       "      <th>end_station_name</th>\n",
       "      <th>end_station_id</th>\n",
       "      <th>start_lat</th>\n",
       "      <th>start_lng</th>\n",
       "      <th>end_lat</th>\n",
       "      <th>end_lng</th>\n",
       "      <th>member_casual</th>\n",
       "      <th>trip_duration</th>\n",
       "      <th>trip_distance</th>\n",
       "      <th>start_hour</th>\n",
       "      <th>start_day_num</th>\n",
       "      <th>start_day</th>\n",
       "    </tr>\n",
       "  </thead>\n",
       "  <tbody>\n",
       "    <tr>\n",
       "      <th>50</th>\n",
       "      <td>0D904FEC5F84A538</td>\n",
       "      <td>classic_bike</td>\n",
       "      <td>2021-06-04 07:29:18</td>\n",
       "      <td>2021-06-04 07:45:34</td>\n",
       "      <td>Orleans St &amp; Elm St</td>\n",
       "      <td>TA1306000006</td>\n",
       "      <td>Orleans St &amp; Elm St</td>\n",
       "      <td>TA1306000006</td>\n",
       "      <td>41.902924</td>\n",
       "      <td>-87.637715</td>\n",
       "      <td>41.902924</td>\n",
       "      <td>-87.637715</td>\n",
       "      <td>member</td>\n",
       "      <td>16.266667</td>\n",
       "      <td>0.000000</td>\n",
       "      <td>7</td>\n",
       "      <td>4</td>\n",
       "      <td>Thursday</td>\n",
       "    </tr>\n",
       "    <tr>\n",
       "      <th>51</th>\n",
       "      <td>C4185F300D6B552B</td>\n",
       "      <td>classic_bike</td>\n",
       "      <td>2021-06-23 08:39:36</td>\n",
       "      <td>2021-06-23 08:41:37</td>\n",
       "      <td>Desplaines St &amp; Kinzie St</td>\n",
       "      <td>TA1306000003</td>\n",
       "      <td>Kingsbury St &amp; Kinzie St</td>\n",
       "      <td>KA1503000043</td>\n",
       "      <td>41.888716</td>\n",
       "      <td>-87.644448</td>\n",
       "      <td>41.889177</td>\n",
       "      <td>-87.638506</td>\n",
       "      <td>member</td>\n",
       "      <td>2.016667</td>\n",
       "      <td>0.662380</td>\n",
       "      <td>8</td>\n",
       "      <td>2</td>\n",
       "      <td>Tuesday</td>\n",
       "    </tr>\n",
       "    <tr>\n",
       "      <th>53</th>\n",
       "      <td>60F97090AC85F55E</td>\n",
       "      <td>classic_bike</td>\n",
       "      <td>2021-06-27 12:26:58</td>\n",
       "      <td>2021-06-27 12:34:45</td>\n",
       "      <td>Clark St &amp; Grace St</td>\n",
       "      <td>TA1307000127</td>\n",
       "      <td>Clark St &amp; Leland Ave</td>\n",
       "      <td>TA1309000014</td>\n",
       "      <td>41.950780</td>\n",
       "      <td>-87.659172</td>\n",
       "      <td>41.967096</td>\n",
       "      <td>-87.667429</td>\n",
       "      <td>member</td>\n",
       "      <td>7.783333</td>\n",
       "      <td>2.032325</td>\n",
       "      <td>12</td>\n",
       "      <td>6</td>\n",
       "      <td>Saturday</td>\n",
       "    </tr>\n",
       "    <tr>\n",
       "      <th>56</th>\n",
       "      <td>FBC7B1F0160AA304</td>\n",
       "      <td>classic_bike</td>\n",
       "      <td>2021-06-01 12:30:24</td>\n",
       "      <td>2021-06-01 12:33:02</td>\n",
       "      <td>Kingsbury St &amp; Kinzie St</td>\n",
       "      <td>KA1503000043</td>\n",
       "      <td>Desplaines St &amp; Kinzie St</td>\n",
       "      <td>TA1306000003</td>\n",
       "      <td>41.889177</td>\n",
       "      <td>-87.638506</td>\n",
       "      <td>41.888716</td>\n",
       "      <td>-87.644448</td>\n",
       "      <td>member</td>\n",
       "      <td>2.633333</td>\n",
       "      <td>0.662380</td>\n",
       "      <td>12</td>\n",
       "      <td>1</td>\n",
       "      <td>Monday</td>\n",
       "    </tr>\n",
       "    <tr>\n",
       "      <th>57</th>\n",
       "      <td>37A52001AEEFA4E5</td>\n",
       "      <td>classic_bike</td>\n",
       "      <td>2021-06-01 11:32:17</td>\n",
       "      <td>2021-06-01 11:34:43</td>\n",
       "      <td>Desplaines St &amp; Kinzie St</td>\n",
       "      <td>TA1306000003</td>\n",
       "      <td>Kingsbury St &amp; Kinzie St</td>\n",
       "      <td>KA1503000043</td>\n",
       "      <td>41.888716</td>\n",
       "      <td>-87.644448</td>\n",
       "      <td>41.889177</td>\n",
       "      <td>-87.638506</td>\n",
       "      <td>member</td>\n",
       "      <td>2.433333</td>\n",
       "      <td>0.662380</td>\n",
       "      <td>11</td>\n",
       "      <td>1</td>\n",
       "      <td>Monday</td>\n",
       "    </tr>\n",
       "  </tbody>\n",
       "</table>\n",
       "</div>"
      ],
      "text/plain": [
       "             ride_id rideable_type          started_at            ended_at  \\\n",
       "50  0D904FEC5F84A538  classic_bike 2021-06-04 07:29:18 2021-06-04 07:45:34   \n",
       "51  C4185F300D6B552B  classic_bike 2021-06-23 08:39:36 2021-06-23 08:41:37   \n",
       "53  60F97090AC85F55E  classic_bike 2021-06-27 12:26:58 2021-06-27 12:34:45   \n",
       "56  FBC7B1F0160AA304  classic_bike 2021-06-01 12:30:24 2021-06-01 12:33:02   \n",
       "57  37A52001AEEFA4E5  classic_bike 2021-06-01 11:32:17 2021-06-01 11:34:43   \n",
       "\n",
       "           start_station_name start_station_id           end_station_name  \\\n",
       "50        Orleans St & Elm St     TA1306000006        Orleans St & Elm St   \n",
       "51  Desplaines St & Kinzie St     TA1306000003   Kingsbury St & Kinzie St   \n",
       "53        Clark St & Grace St     TA1307000127      Clark St & Leland Ave   \n",
       "56   Kingsbury St & Kinzie St     KA1503000043  Desplaines St & Kinzie St   \n",
       "57  Desplaines St & Kinzie St     TA1306000003   Kingsbury St & Kinzie St   \n",
       "\n",
       "   end_station_id  start_lat  start_lng    end_lat    end_lng member_casual  \\\n",
       "50   TA1306000006  41.902924 -87.637715  41.902924 -87.637715        member   \n",
       "51   KA1503000043  41.888716 -87.644448  41.889177 -87.638506        member   \n",
       "53   TA1309000014  41.950780 -87.659172  41.967096 -87.667429        member   \n",
       "56   TA1306000003  41.889177 -87.638506  41.888716 -87.644448        member   \n",
       "57   KA1503000043  41.888716 -87.644448  41.889177 -87.638506        member   \n",
       "\n",
       "    trip_duration  trip_distance  start_hour  start_day_num start_day  \n",
       "50      16.266667       0.000000           7              4  Thursday  \n",
       "51       2.016667       0.662380           8              2   Tuesday  \n",
       "53       7.783333       2.032325          12              6  Saturday  \n",
       "56       2.633333       0.662380          12              1    Monday  \n",
       "57       2.433333       0.662380          11              1    Monday  "
      ]
     },
     "execution_count": 34,
     "metadata": {},
     "output_type": "execute_result"
    }
   ],
   "source": [
    "dataset.head()"
   ]
  },
  {
   "cell_type": "code",
   "execution_count": 31,
   "id": "9f4bdd48",
   "metadata": {},
   "outputs": [],
   "source": [
    "dataset['start_day_num'] = dataset['started_at'].dt.dayofweek"
   ]
  },
  {
   "cell_type": "code",
   "execution_count": 33,
   "id": "289a747f",
   "metadata": {},
   "outputs": [],
   "source": [
    "day_dict = {0:\"Sunday\", 1:\"Monday\", 2:\"Tuesday\", 3:\"Wednesday\", 4:\"Thursday\", 5:\"Friday\", 6:\"Saturday\"}\n",
    "dataset['start_day']=dataset['start_day_num'].apply(lambda y:day_dict[y])"
   ]
  },
  {
   "cell_type": "code",
   "execution_count": 35,
   "id": "98c2a0ce",
   "metadata": {},
   "outputs": [],
   "source": [
    "dataset['weekend'] = np.where(dataset['start_day_num']>5,True , False)"
   ]
  },
  {
   "cell_type": "code",
   "execution_count": 36,
   "id": "9785ca49",
   "metadata": {},
   "outputs": [
    {
     "data": {
      "text/plain": [
       "array([ 6,  7,  8,  9, 10, 11, 12,  1,  2,  3,  4,  5], dtype=int64)"
      ]
     },
     "execution_count": 36,
     "metadata": {},
     "output_type": "execute_result"
    }
   ],
   "source": [
    "dataset['start_month_num'] = dataset['started_at'].dt.month\n",
    "dataset[\"start_month_num\"].unique()"
   ]
  },
  {
   "cell_type": "code",
   "execution_count": 37,
   "id": "20cc01d5",
   "metadata": {},
   "outputs": [
    {
     "data": {
      "text/plain": [
       "array(['June', 'July', 'August', 'September', 'October', 'November',\n",
       "       'December', 'January', 'February', 'March', 'April', 'May'],\n",
       "      dtype=object)"
      ]
     },
     "execution_count": 37,
     "metadata": {},
     "output_type": "execute_result"
    }
   ],
   "source": [
    "month_dict = {1:\"January\", 2:\"February\", 3:\"March\", 4:\"April\", 5:\"May\", 6:\"June\", 7:\"July\", 8:\"August\", 9:\"September\", 10:\"October\", 11:\"November\", 12:\"December\"}\n",
    "dataset[\"start_month_name\"]= dataset[\"start_month_num\"].apply(lambda y:month_dict[y])\n",
    "dataset[\"start_month_name\"].unique()"
   ]
  },
  {
   "cell_type": "code",
   "execution_count": 38,
   "id": "05244ec2",
   "metadata": {},
   "outputs": [
    {
     "data": {
      "text/plain": [
       "array([2021, 2022], dtype=int64)"
      ]
     },
     "execution_count": 38,
     "metadata": {},
     "output_type": "execute_result"
    }
   ],
   "source": [
    "dataset['start_year'] = dataset['started_at'].dt.year\n",
    "dataset[\"start_year\"].unique()"
   ]
  },
  {
   "cell_type": "code",
   "execution_count": 39,
   "id": "cac427f2",
   "metadata": {},
   "outputs": [
    {
     "data": {
      "text/html": [
       "<div>\n",
       "<style scoped>\n",
       "    .dataframe tbody tr th:only-of-type {\n",
       "        vertical-align: middle;\n",
       "    }\n",
       "\n",
       "    .dataframe tbody tr th {\n",
       "        vertical-align: top;\n",
       "    }\n",
       "\n",
       "    .dataframe thead th {\n",
       "        text-align: right;\n",
       "    }\n",
       "</style>\n",
       "<table border=\"1\" class=\"dataframe\">\n",
       "  <thead>\n",
       "    <tr style=\"text-align: right;\">\n",
       "      <th></th>\n",
       "      <th>ride_id</th>\n",
       "      <th>rideable_type</th>\n",
       "      <th>started_at</th>\n",
       "      <th>ended_at</th>\n",
       "      <th>start_station_name</th>\n",
       "      <th>start_station_id</th>\n",
       "      <th>end_station_name</th>\n",
       "      <th>end_station_id</th>\n",
       "      <th>start_lat</th>\n",
       "      <th>start_lng</th>\n",
       "      <th>...</th>\n",
       "      <th>member_casual</th>\n",
       "      <th>trip_duration</th>\n",
       "      <th>trip_distance</th>\n",
       "      <th>start_hour</th>\n",
       "      <th>start_day_num</th>\n",
       "      <th>start_day</th>\n",
       "      <th>weekend</th>\n",
       "      <th>start_month_num</th>\n",
       "      <th>start_month_name</th>\n",
       "      <th>start_year</th>\n",
       "    </tr>\n",
       "  </thead>\n",
       "  <tbody>\n",
       "    <tr>\n",
       "      <th>50</th>\n",
       "      <td>0D904FEC5F84A538</td>\n",
       "      <td>classic_bike</td>\n",
       "      <td>2021-06-04 07:29:18</td>\n",
       "      <td>2021-06-04 07:45:34</td>\n",
       "      <td>Orleans St &amp; Elm St</td>\n",
       "      <td>TA1306000006</td>\n",
       "      <td>Orleans St &amp; Elm St</td>\n",
       "      <td>TA1306000006</td>\n",
       "      <td>41.902924</td>\n",
       "      <td>-87.637715</td>\n",
       "      <td>...</td>\n",
       "      <td>member</td>\n",
       "      <td>16.266667</td>\n",
       "      <td>0.000000</td>\n",
       "      <td>7</td>\n",
       "      <td>4</td>\n",
       "      <td>Thursday</td>\n",
       "      <td>False</td>\n",
       "      <td>6</td>\n",
       "      <td>June</td>\n",
       "      <td>2021</td>\n",
       "    </tr>\n",
       "    <tr>\n",
       "      <th>51</th>\n",
       "      <td>C4185F300D6B552B</td>\n",
       "      <td>classic_bike</td>\n",
       "      <td>2021-06-23 08:39:36</td>\n",
       "      <td>2021-06-23 08:41:37</td>\n",
       "      <td>Desplaines St &amp; Kinzie St</td>\n",
       "      <td>TA1306000003</td>\n",
       "      <td>Kingsbury St &amp; Kinzie St</td>\n",
       "      <td>KA1503000043</td>\n",
       "      <td>41.888716</td>\n",
       "      <td>-87.644448</td>\n",
       "      <td>...</td>\n",
       "      <td>member</td>\n",
       "      <td>2.016667</td>\n",
       "      <td>0.662380</td>\n",
       "      <td>8</td>\n",
       "      <td>2</td>\n",
       "      <td>Tuesday</td>\n",
       "      <td>False</td>\n",
       "      <td>6</td>\n",
       "      <td>June</td>\n",
       "      <td>2021</td>\n",
       "    </tr>\n",
       "    <tr>\n",
       "      <th>53</th>\n",
       "      <td>60F97090AC85F55E</td>\n",
       "      <td>classic_bike</td>\n",
       "      <td>2021-06-27 12:26:58</td>\n",
       "      <td>2021-06-27 12:34:45</td>\n",
       "      <td>Clark St &amp; Grace St</td>\n",
       "      <td>TA1307000127</td>\n",
       "      <td>Clark St &amp; Leland Ave</td>\n",
       "      <td>TA1309000014</td>\n",
       "      <td>41.950780</td>\n",
       "      <td>-87.659172</td>\n",
       "      <td>...</td>\n",
       "      <td>member</td>\n",
       "      <td>7.783333</td>\n",
       "      <td>2.032325</td>\n",
       "      <td>12</td>\n",
       "      <td>6</td>\n",
       "      <td>Saturday</td>\n",
       "      <td>True</td>\n",
       "      <td>6</td>\n",
       "      <td>June</td>\n",
       "      <td>2021</td>\n",
       "    </tr>\n",
       "    <tr>\n",
       "      <th>56</th>\n",
       "      <td>FBC7B1F0160AA304</td>\n",
       "      <td>classic_bike</td>\n",
       "      <td>2021-06-01 12:30:24</td>\n",
       "      <td>2021-06-01 12:33:02</td>\n",
       "      <td>Kingsbury St &amp; Kinzie St</td>\n",
       "      <td>KA1503000043</td>\n",
       "      <td>Desplaines St &amp; Kinzie St</td>\n",
       "      <td>TA1306000003</td>\n",
       "      <td>41.889177</td>\n",
       "      <td>-87.638506</td>\n",
       "      <td>...</td>\n",
       "      <td>member</td>\n",
       "      <td>2.633333</td>\n",
       "      <td>0.662380</td>\n",
       "      <td>12</td>\n",
       "      <td>1</td>\n",
       "      <td>Monday</td>\n",
       "      <td>False</td>\n",
       "      <td>6</td>\n",
       "      <td>June</td>\n",
       "      <td>2021</td>\n",
       "    </tr>\n",
       "    <tr>\n",
       "      <th>57</th>\n",
       "      <td>37A52001AEEFA4E5</td>\n",
       "      <td>classic_bike</td>\n",
       "      <td>2021-06-01 11:32:17</td>\n",
       "      <td>2021-06-01 11:34:43</td>\n",
       "      <td>Desplaines St &amp; Kinzie St</td>\n",
       "      <td>TA1306000003</td>\n",
       "      <td>Kingsbury St &amp; Kinzie St</td>\n",
       "      <td>KA1503000043</td>\n",
       "      <td>41.888716</td>\n",
       "      <td>-87.644448</td>\n",
       "      <td>...</td>\n",
       "      <td>member</td>\n",
       "      <td>2.433333</td>\n",
       "      <td>0.662380</td>\n",
       "      <td>11</td>\n",
       "      <td>1</td>\n",
       "      <td>Monday</td>\n",
       "      <td>False</td>\n",
       "      <td>6</td>\n",
       "      <td>June</td>\n",
       "      <td>2021</td>\n",
       "    </tr>\n",
       "  </tbody>\n",
       "</table>\n",
       "<p>5 rows × 22 columns</p>\n",
       "</div>"
      ],
      "text/plain": [
       "             ride_id rideable_type          started_at            ended_at  \\\n",
       "50  0D904FEC5F84A538  classic_bike 2021-06-04 07:29:18 2021-06-04 07:45:34   \n",
       "51  C4185F300D6B552B  classic_bike 2021-06-23 08:39:36 2021-06-23 08:41:37   \n",
       "53  60F97090AC85F55E  classic_bike 2021-06-27 12:26:58 2021-06-27 12:34:45   \n",
       "56  FBC7B1F0160AA304  classic_bike 2021-06-01 12:30:24 2021-06-01 12:33:02   \n",
       "57  37A52001AEEFA4E5  classic_bike 2021-06-01 11:32:17 2021-06-01 11:34:43   \n",
       "\n",
       "           start_station_name start_station_id           end_station_name  \\\n",
       "50        Orleans St & Elm St     TA1306000006        Orleans St & Elm St   \n",
       "51  Desplaines St & Kinzie St     TA1306000003   Kingsbury St & Kinzie St   \n",
       "53        Clark St & Grace St     TA1307000127      Clark St & Leland Ave   \n",
       "56   Kingsbury St & Kinzie St     KA1503000043  Desplaines St & Kinzie St   \n",
       "57  Desplaines St & Kinzie St     TA1306000003   Kingsbury St & Kinzie St   \n",
       "\n",
       "   end_station_id  start_lat  start_lng  ...  member_casual  trip_duration  \\\n",
       "50   TA1306000006  41.902924 -87.637715  ...         member      16.266667   \n",
       "51   KA1503000043  41.888716 -87.644448  ...         member       2.016667   \n",
       "53   TA1309000014  41.950780 -87.659172  ...         member       7.783333   \n",
       "56   TA1306000003  41.889177 -87.638506  ...         member       2.633333   \n",
       "57   KA1503000043  41.888716 -87.644448  ...         member       2.433333   \n",
       "\n",
       "   trip_distance  start_hour  start_day_num  start_day  weekend  \\\n",
       "50      0.000000           7              4   Thursday    False   \n",
       "51      0.662380           8              2    Tuesday    False   \n",
       "53      2.032325          12              6   Saturday     True   \n",
       "56      0.662380          12              1     Monday    False   \n",
       "57      0.662380          11              1     Monday    False   \n",
       "\n",
       "   start_month_num  start_month_name  start_year  \n",
       "50               6              June        2021  \n",
       "51               6              June        2021  \n",
       "53               6              June        2021  \n",
       "56               6              June        2021  \n",
       "57               6              June        2021  \n",
       "\n",
       "[5 rows x 22 columns]"
      ]
     },
     "execution_count": 39,
     "metadata": {},
     "output_type": "execute_result"
    }
   ],
   "source": [
    "dataset.head()"
   ]
  },
  {
   "cell_type": "code",
   "execution_count": 43,
   "id": "44080263",
   "metadata": {},
   "outputs": [],
   "source": [
    "dataset.rename(columns = {'member_casual': 'user_type'}, inplace=True)"
   ]
  },
  {
   "cell_type": "code",
   "execution_count": 44,
   "id": "aa44d88f",
   "metadata": {},
   "outputs": [],
   "source": [
    "dataset.to_csv(\"bike_share.csv\",index= False)"
   ]
  },
  {
   "cell_type": "code",
   "execution_count": null,
   "id": "baec65ef",
   "metadata": {},
   "outputs": [],
   "source": []
  }
 ],
 "metadata": {
  "kernelspec": {
   "display_name": "Python 3 (ipykernel)",
   "language": "python",
   "name": "python3"
  },
  "language_info": {
   "codemirror_mode": {
    "name": "ipython",
    "version": 3
   },
   "file_extension": ".py",
   "mimetype": "text/x-python",
   "name": "python",
   "nbconvert_exporter": "python",
   "pygments_lexer": "ipython3",
   "version": "3.10.9"
  }
 },
 "nbformat": 4,
 "nbformat_minor": 5
}
